{
 "cells": [
  {
   "cell_type": "code",
   "execution_count": 1,
   "metadata": {},
   "outputs": [],
   "source": [
    "# Implementation of deepmind's paper on Wavenets, which requires implementing a dilated causal convolutional network.\n",
    "# Let us rewrite makemore first and make it a bit more mature\n",
    "\n",
    "import torch\n",
    "import torch.nn.functional as F\n",
    "import matplotlib.pyplot as plt\n",
    "import random\n",
    "%matplotlib inline\n",
    "\n",
    "# Load data\n",
    "words = open('names.txt','r').read().splitlines()\n",
    "# Tokenize the input\n",
    "chars = sorted(list(set(''.join(words))))# Make the items and chars to pull out a non repeating vocabulary of characters from the dataset.\n",
    "# make a numeric identifier for each unique character\n",
    "s2i = {s:i+1 for i,s in enumerate(chars)}\n",
    "s2i['.'] = 0 # add an identifier which you can use to denote the beginning and end of each character (in the original paper, this is word)\n",
    "# reverse the order\n",
    "i2s = {i:s for s,i in s2i.items()} # this switches the key of the dictionary, making numerals identify a character, which is needed for languages.\n",
    "\n"
   ]
  },
  {
   "cell_type": "code",
   "execution_count": 21,
   "metadata": {},
   "outputs": [
    {
     "name": "stdout",
     "output_type": "stream",
     "text": [
      "torch.Size([182376, 8]) torch.Size([182376])\n",
      "torch.Size([22871, 8]) torch.Size([22871])\n",
      "torch.Size([22899, 8]) torch.Size([22899])\n"
     ]
    }
   ],
   "source": [
    "block_size = 8 # number of inputs going into the network, i.e., number of characters.\n",
    "# Step 1) Build the dataset\n",
    "def build_dataset(words, block_size):\n",
    "    \n",
    "    X, Y = [],[] # X is the inputs (block_size in number), while Y is the output, which is one for this example.\n",
    "\n",
    "    for w in words:\n",
    "        #print(w)\n",
    "        context = [0] * block_size\n",
    "        for ch in w + '.':\n",
    "            ix = s2i[ch]\n",
    "            X.append(context)\n",
    "            Y.append(ix)\n",
    "            #print(''.join(i2s[i] for i in context), '---->', i2s[ix])\n",
    "            #print(context[1:] + [ix])\n",
    "            context = context[1:] + [ix]\n",
    "\n",
    "    # convert to torch datasets\n",
    "    X = torch.tensor(X)\n",
    "    Y = torch.tensor(Y)\n",
    "    return X,Y\n",
    "\n",
    "# Split dataset into training set and test set\n",
    "random.seed(0)\n",
    "random.shuffle(words)\n",
    "n1 = int(0.8*len(words))\n",
    "n2 = int(0.9*len(words))\n",
    "Xtr, Ytr = build_dataset(words[:n1],block_size) # training set is 0.8*len words\n",
    "Xdev, Ydev = build_dataset(words[n1:n2],block_size) # dev set is between 0.8*len words and 0.9*len words\n",
    "Xte, Yte = build_dataset(words[n2:],block_size) # test set is 0.9*len words to the end\n",
    "\n",
    "print(Xtr.shape, Ytr.shape)\n",
    "print(Xdev.shape, Ydev.shape)\n",
    "print(Xte.shape, Yte.shape)"
   ]
  },
  {
   "cell_type": "code",
   "execution_count": 76,
   "metadata": {},
   "outputs": [],
   "source": [
    "\n",
    "class Linear:\n",
    "\n",
    "    def __init__(self, fan_in, fan_out, bias=True):\n",
    "        self.weight = torch.randn(fan_in,fan_out) / (fan_in**0.5) # set up initialization as well\n",
    "        self.bias = torch.zeros(fan_out) if bias else None # conditional\n",
    "\n",
    "    def __call__(self,x):\n",
    "        self.out = x @ self.weight\n",
    "        if self.bias is not None:\n",
    "            self.out += self.bias\n",
    "        return self.out\n",
    "\n",
    "    def parameters(self):\n",
    "        return ([self.weight] if self.bias is None else [self.weight, self.bias])\n",
    "\n",
    "\n",
    "class Embedding:\n",
    "    def __init__(self,n_embeddings,embedding_dim):\n",
    "        self.weight = torch.randn((n_embeddings,embedding_dim))\n",
    "    \n",
    "    def __call__(self,x):\n",
    "        self.out = self.weight[x]\n",
    "        return self.out\n",
    "    def parameters(self):\n",
    "        return [self.weight]\n",
    "\n",
    "class Flatten:\n",
    "    def __call__(self,x):\n",
    "        self.out = x.view(x.shape[0],-1)\n",
    "        return self.out\n",
    "    def parameters(self):\n",
    "        return []\n",
    "\n",
    "\n",
    "class FlattenConsecutive:\n",
    "\n",
    "    def __init__(self,n): # This means we only flatten some n consequtive elements and puts them into the last dimension\n",
    "        self.n = n\n",
    "\n",
    "    def __call__(self,x):\n",
    "        b,t,c = x.shape\n",
    "        x = x.view(b,t//self.n,c*self.n) # This is how it works\n",
    "        if x.shape[1] == 1: # in case the input is a single element, we need to squeeze it\n",
    "            x = x.squeeze(1) # This removes all singleton dimensions in position dim=1 which means a (bXc*self.n) will be the output size\n",
    "        self.out = x\n",
    "        return self.out\n",
    "        \n",
    "    def parameters(self):\n",
    "        return []\n",
    "\n",
    "class BatchNorm1D:\n",
    "\n",
    "    def __init__(self,dim,eps=1e-5, momentum=0.9):\n",
    "        self.eps = eps # set the epsilon to be a small number to prevent division by zero\n",
    "        self.momentum = momentum\n",
    "        self.training = True\n",
    "        # Initialize gamma and beta\n",
    "        self.gamma = torch.ones(dim)\n",
    "        self.beta = torch.zeros(dim)\n",
    "        # Set running mean and variance to zero and 1\n",
    "        self.running_mean = torch.zeros(dim)\n",
    "        self.running_var = torch.ones(dim)\n",
    "    \n",
    "    def __call__(self, x):\n",
    "        if self.training:\n",
    "            if x.ndim == 2:\n",
    "                dim = 0\n",
    "            elif x.ndim == 3: # Remember, that pytorch has a different convention for the batch dimension. They average over (0,2) instead, and expect the classes to be in between.\n",
    "                dim = (0,1)\n",
    "            xmean = x.mean(dim,keepdim=True)\n",
    "            xvar = x.var(dim,keepdim=True) # This is the 2D case\n",
    "            # torch.mean can take in a tuple of integers to reduce over multiple dimensions\n",
    "        else:\n",
    "            xmean = self.running_mean\n",
    "            xvar = self.running_var\n",
    "        expression = (x - xmean)/torch.sqrt(xvar + self.eps)\n",
    "        self.out = self.gamma* (expression) + self.beta\n",
    "        # Update the running mean and the running variance on the fly:\n",
    "        if self.training:\n",
    "            with torch.no_grad(): # avoid gradient being part of the computation graph\n",
    "                self.running_mean = self.momentum*self.running_mean + (1-self.momentum)*xmean\n",
    "                self.running_var = self.momentum*self.running_var + (1-self.momentum)*xvar\n",
    "        return self.out\n",
    "    \n",
    "    def parameters(self):\n",
    "        return [self.gamma, self.beta]\n",
    "        \n",
    "class Tanh:\n",
    "\n",
    "    def __call__(self,x):\n",
    "        self.out = torch.tanh(x)\n",
    "        return self.out\n",
    "\n",
    "    def parameters(self):\n",
    "        return []\n",
    "\n",
    "\n",
    "class Sequential:\n",
    "\n",
    "    def __init__(self,layers):\n",
    "        self.layers = layers\n",
    "    \n",
    "    def __call__(self,x):\n",
    "        for layer in self.layers:\n",
    "            x = layer(x)\n",
    "        self.out=x\n",
    "        return self.out\n",
    "\n",
    "    def parameters(self):\n",
    "        return [p for layer in self.layers for p in layer.parameters()]"
   ]
  },
  {
   "cell_type": "code",
   "execution_count": 82,
   "metadata": {},
   "outputs": [
    {
     "name": "stdout",
     "output_type": "stream",
     "text": [
      "76579\n"
     ]
    }
   ],
   "source": [
    "# Build a simple neural network which you will complexify to add the dilated \n",
    "# causal convolutional network\n",
    "\n",
    "n_embeddings = 24\n",
    "n_hidden = 128\n",
    "vocab_size = len(chars) + 1\n",
    "\n",
    "torch.manual_seed(42) # gets rid of the generator function we used to use previously\n",
    "\n",
    "\n",
    "model = Sequential([\n",
    "            Embedding(vocab_size, n_embeddings), \n",
    "            FlattenConsecutive(2),Linear(n_embeddings*2, n_hidden, bias = False), BatchNorm1D(n_hidden), Tanh(),\n",
    "            FlattenConsecutive(2),Linear(n_hidden*2, n_hidden, bias = False), BatchNorm1D(n_hidden), Tanh(),\n",
    "            FlattenConsecutive(2),Linear(n_hidden*2, n_hidden, bias = False), BatchNorm1D(n_hidden), Tanh(),\n",
    "            Linear(n_hidden, vocab_size), \n",
    "])\n",
    "\n",
    "# Set up initialization conditions\n",
    "with torch.no_grad():\n",
    "    for layer in model.layers[:-1]:\n",
    "        if isinstance(layer,BatchNorm1D):\n",
    "            layer.gamma *= 0.1\n",
    "        if isinstance(layer, Linear):\n",
    "            layer.weight *= 0.1 # Reduce the co0nfidence of the last layer\n",
    "\n",
    "parameters = model.parameters()\n",
    "print(sum(p.nelement() for p in parameters))\n",
    "\n",
    "# Set requires_grad to true\n",
    "for p in parameters:\n",
    "    p.requires_grad = True\n",
    "\n",
    "\n"
   ]
  },
  {
   "cell_type": "code",
   "execution_count": 83,
   "metadata": {},
   "outputs": [
    {
     "name": "stdout",
     "output_type": "stream",
     "text": [
      "torch.Size([4, 8])\n"
     ]
    },
    {
     "data": {
      "text/plain": [
       "tensor([[ 0,  0,  0,  0,  0,  0,  0, 15],\n",
       "        [ 0,  0,  0,  0,  0,  0,  0, 12],\n",
       "        [ 0,  0,  0,  0,  0,  0,  5, 12],\n",
       "        [ 0,  0,  0, 12,  5, 25, 12,  1]])"
      ]
     },
     "execution_count": 83,
     "metadata": {},
     "output_type": "execute_result"
    }
   ],
   "source": [
    "# Check to see if the model works\n",
    "ix = torch.randint(0,Xtr.shape[0],(4,))\n",
    "Xb,Yb = Xtr[ix], Ytr[ix]\n",
    "logits = model(Xb)\n",
    "print(Xb.shape)\n",
    "Xb\n",
    "# We now see that our 4 examples have 8 characters in the input"
   ]
  },
  {
   "cell_type": "code",
   "execution_count": 34,
   "metadata": {},
   "outputs": [
    {
     "name": "stdout",
     "output_type": "stream",
     "text": [
      "torch.Size([4, 8, 10])\n",
      "torch.Size([4, 80])\n",
      "torch.Size([4, 200])\n",
      "torch.Size([4, 200])\n",
      "torch.Size([4, 5, 200])\n",
      "torch.Size([4, 4, 200])\n"
     ]
    }
   ],
   "source": [
    "# if we look at the shape of the output of the first layer of the model:\n",
    "print(model.layers[0].out.shape)# we get a 4x8x10 tensor, which is the 4 examples, 8 characters, and 10 embeddings\n",
    "# checking the next layer:\n",
    "print(model.layers[1].out.shape) # we get a 4X80 tensor, which is the 4 examples, and 80 flattened embeddings\n",
    "# checking the next layer:\n",
    "print(model.layers[2].out.shape) # we get a 4X200 tensor, which is the 4 examples, and 200 hidden units\n",
    "# so the entire operation up to now is to take the 4X8X10 tensor and concatenate to a 4X200 tensor\n",
    "# Let us look at what happens in the linear layer mathematically\n",
    "print((torch.randn(4,80) @ torch.randn(80,200) + torch.randn(200)).shape) # we get a 4X200 tensor, so the addition is a broadcast\n",
    "# It is surprising to note that the input need not be a 2d tensor:\n",
    "print((torch.randn(4,5,80) @ torch.randn(80,200) + torch.randn(200)).shape) # we get a 4X200 tensor, so the addition is a broadcast\n",
    "# Seeing that the added middle dimension is unaffected, we note that the matrix mult is only working on the last dimension\n",
    "# We can use this for our dilated causal convolutional network\n",
    "# In our dilated layer, we are not interested in multiplying across all the inputs,\n",
    "# we want to group them so that every consequtive two elements are taken\n",
    "# going from [1 2 3 4 5 6 7 8] to [(1,2) (3,4) (5,6) (7,8)]\n",
    "# This looks like\n",
    "print((torch.randn(4, 4 ,20) @ torch.randn(20,200) + torch.randn(200)).shape) # giving us a 4X4X200 tensor\n"
   ]
  },
  {
   "cell_type": "code",
   "execution_count": 41,
   "metadata": {},
   "outputs": [
    {
     "name": "stdout",
     "output_type": "stream",
     "text": [
      "torch.Size([4, 4, 10]) torch.Size([4, 4, 10])\n",
      "torch.Size([4, 4, 20])\n"
     ]
    }
   ],
   "source": [
    "# the above requirement means the Flatten layer needs to be changed\n",
    "# Currently, the following happens:\n",
    "e = torch.randn(4,8,10)\n",
    "e.view(4,-1).shape # which gives us a 4X80 tensor\n",
    "# but we want a 4,4,20 tensor\n",
    "print(e[:,0::2,:].shape, e[:,1::2,:].shape) # which gives us a 4,4,10 tensor of the even and odd elements in the middle dimension\n",
    "# Another process is to use the view operation\n",
    "print(e.view([4,4,20]).shape) # which gives us a 4,4,20 tensor]))"
   ]
  },
  {
   "cell_type": "code",
   "execution_count": 44,
   "metadata": {},
   "outputs": [
    {
     "name": "stdout",
     "output_type": "stream",
     "text": [
      "tensor(0.)\n"
     ]
    }
   ],
   "source": [
    "e = torch.randn(4,8,10)\n",
    "explicit = torch.cat([e[:,0::2,:],e[:,1::2,:]],dim=2)\n",
    "explicit.shape # This is what we need to get\n",
    "\n",
    "# We can compare with the view operation\n",
    "implicit = e.view([4,4,20])\n",
    "print((explicit-implicit).abs().sum()) # which gives us a 4,4,20 tensor\n",
    "# Because we get zero, this means that the view operation is equivalent to the concatenation operation\n",
    "# where the odd and even elements are concatenated along the last dimension, dim=2"
   ]
  },
  {
   "cell_type": "code",
   "execution_count": 71,
   "metadata": {},
   "outputs": [
    {
     "name": "stdout",
     "output_type": "stream",
     "text": [
      "Embedding : (4, 8, 10)\n",
      "FlattenConsecutive : (4, 4, 20)\n",
      "Linear : (4, 4, 68)\n",
      "BatchNorm1D : (4, 4, 68)\n",
      "Tanh : (4, 4, 68)\n",
      "FlattenConsecutive : (4, 2, 136)\n",
      "Linear : (4, 2, 68)\n",
      "BatchNorm1D : (4, 2, 68)\n",
      "Tanh : (4, 2, 68)\n",
      "FlattenConsecutive : (4, 136)\n",
      "Linear : (4, 68)\n",
      "BatchNorm1D : (4, 68)\n",
      "Tanh : (4, 68)\n",
      "Linear : (4, 27)\n"
     ]
    }
   ],
   "source": [
    "for layers in model.layers:\n",
    "    print(layers.__class__.__name__,':',tuple(layers.out.shape))\n",
    "# This prints the name and layer shape of each layer in the model\n",
    "# We see that the squeeze operation works.\n",
    "# The original wavenet paper haws a block size of 16, and 4 dilations of 1,2,4,8 from 16"
   ]
  },
  {
   "cell_type": "code",
   "execution_count": 79,
   "metadata": {},
   "outputs": [
    {
     "name": "stdout",
     "output_type": "stream",
     "text": [
      "      0/ 200000: 3.2998\n",
      "  10000/ 200000: 2.1058\n",
      "  20000/ 200000: 2.4089\n",
      "  30000/ 200000: 2.2599\n",
      "  40000/ 200000: 1.7570\n",
      "  50000/ 200000: 2.3884\n",
      "  60000/ 200000: 2.1061\n",
      "  70000/ 200000: 1.8071\n",
      "  80000/ 200000: 2.0559\n",
      "  90000/ 200000: 2.1736\n",
      " 100000/ 200000: 1.7727\n",
      " 110000/ 200000: 2.0053\n",
      " 120000/ 200000: 2.2046\n",
      " 130000/ 200000: 1.9626\n",
      " 140000/ 200000: 2.2015\n",
      " 150000/ 200000: 2.2535\n",
      " 160000/ 200000: 2.0827\n",
      " 170000/ 200000: 2.0117\n",
      " 180000/ 200000: 1.7874\n",
      " 190000/ 200000: 2.0293\n"
     ]
    },
    {
     "data": {
      "image/png": "[encoded data removed]",
      "text/plain": [
       "<Figure size 640x480 with 1 Axes>"
      ]
     },
     "metadata": {},
     "output_type": "display_data"
    }
   ],
   "source": [
    "# Begin training \n",
    "max_iterations = 200000\n",
    "batch_size = 32\n",
    "lossi = []\n",
    "\n",
    "for i in range(max_iterations):\n",
    "\n",
    "    # Generate a random batch\n",
    "    ix = torch.randint(0,Xtr.shape[0],(batch_size,))\n",
    "    Xb,Yb = Xtr[ix], Ytr[ix]\n",
    "\n",
    "    # Forward pass\n",
    "    logits = model(Xb)\n",
    "    loss = F.cross_entropy(logits,Yb)\n",
    "\n",
    "    # Backward pass\n",
    "    for p in parameters:\n",
    "        p.grad = None\n",
    "    loss.backward()\n",
    "\n",
    "    # Update parameters\n",
    "    lr = 0.1 if i<150000 else 0.01\n",
    "    for p in parameters:\n",
    "        p.data += -lr * p.grad\n",
    "    \n",
    "    # track stats\n",
    "    if i % 1000 == 0: # print every once in a while\n",
    "        print(f'{i:7d}/{max_iterations:7d}: {loss.item():.4f}')\n",
    "    lossi.append(loss.item())\n",
    "\n",
    "plt.plot(torch.tensor(lossi).view(-1,1000).mean(1))\n",
    "\n",
    "# Switch off the training on all layers so that the running meand and \n",
    "# variance can be used for BatchNorm1D\n",
    "for layer in model.layers:\n",
    "    layer.training = False"
   ]
  },
  {
   "cell_type": "code",
   "execution_count": 80,
   "metadata": {},
   "outputs": [
    {
     "name": "stdout",
     "output_type": "stream",
     "text": [
      "train 1.933670997619629\n",
      "dev 2.0148839950561523\n"
     ]
    }
   ],
   "source": [
    "@torch.no_grad()\n",
    "def split_loss(split): # loss calculation over a portion of the dataset\n",
    "    x,y = {\n",
    "        'train': (Xtr,Ytr),\n",
    "        'dev': (Xdev,Ydev),\n",
    "        'test': (Xte,Yte),\n",
    "    }[split]\n",
    "    \n",
    "    logits = model(x)\n",
    "    loss = F.cross_entropy(logits,y)\n",
    "    \n",
    "\n",
    "    print(split,loss.item())\n",
    "\n",
    "split_loss('train')\n",
    "split_loss('dev')"
   ]
  },
  {
   "cell_type": "code",
   "execution_count": 81,
   "metadata": {},
   "outputs": [
    {
     "name": "stdout",
     "output_type": "stream",
     "text": [
      "zhandrus.\n",
      "faaron.\n",
      "ala.\n",
      "yeyeley.\n",
      "marake.\n",
      "deylin.\n",
      "marov.\n",
      "emmer.\n",
      "vie.\n",
      "zeiah.\n",
      "ymira.\n",
      "deerthius.\n",
      "noyry.\n",
      "janissa.\n",
      "via.\n",
      "klina.\n",
      "barivin.\n",
      "brinlynn.\n",
      "caiton.\n",
      "mubred.\n"
     ]
    }
   ],
   "source": [
    "# Sampling from the model\n",
    "\n",
    "for i in range(20):\n",
    "    out = []\n",
    "    context = [0]* block_size\n",
    "\n",
    "    while True:\n",
    "        # forward pass\n",
    "        logits = model(torch.tensor([context]))\n",
    "        probs = F.softmax(logits, dim=1)\n",
    "\n",
    "        # sample from the distribution\n",
    "        ix = torch.multinomial(probs, num_samples=1).item()\n",
    "        # shift the context window\n",
    "        context = context[1:] + [ix]\n",
    "        out.append(ix)\n",
    "\n",
    "        if ix == 0:\n",
    "            break\n",
    "\n",
    "    print(''.join(i2s[i] for i in out))"
   ]
  }
 ],
 "metadata": {
  "kernelspec": {
   "display_name": "textscan",
   "language": "python",
   "name": "python3"
  },
  "language_info": {
   "codemirror_mode": {
    "name": "ipython",
    "version": 3
   },
   "file_extension": ".py",
   "mimetype": "text/x-python",
   "name": "python",
   "nbconvert_exporter": "python",
   "pygments_lexer": "ipython3",
   "version": "3.11.0"
  },
  "orig_nbformat": 4,
  "vscode": {
   "interpreter": {
    "hash": "d98cbb787251fac8b09d58c88d44135973ceca7df75589457d3db0159f5eed1c"
   }
  }
 },
 "nbformat": 4,
 "nbformat_minor": 2
}
